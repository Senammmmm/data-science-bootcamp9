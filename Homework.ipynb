{
  "nbformat": 4,
  "nbformat_minor": 0,
  "metadata": {
    "colab": {
      "provenance": [],
      "toc_visible": true,
      "authorship_tag": "ABX9TyOGuOj4DNKdxMu5lUMT4EfD",
      "include_colab_link": true
    },
    "kernelspec": {
      "name": "python3",
      "display_name": "Python 3"
    },
    "language_info": {
      "name": "python"
    }
  },
  "cells": [
    {
      "cell_type": "markdown",
      "metadata": {
        "id": "view-in-github",
        "colab_type": "text"
      },
      "source": [
        "<a href=\"https://colab.research.google.com/github/Senammmmm/data-science-bootcamp9/blob/main/Homework.ipynb\" target=\"_parent\"><img src=\"https://colab.research.google.com/assets/colab-badge.svg\" alt=\"Open In Colab\"/></a>"
      ]
    },
    {
      "cell_type": "markdown",
      "source": [
        "# **HOMEWORK01 - RockPaperScissorsGame**"
      ],
      "metadata": {
        "id": "AchGEaZx0MP_"
      }
    },
    {
      "cell_type": "code",
      "source": [
        "import random\n",
        "\n",
        "def game():\n",
        "    print(\"Hello! Welcome to Rock Paper Scissors!!\")\n",
        "    username = input(\"What's your name?\")\n",
        "    print(f\"Hi, {username}. Let's start!\")\n",
        "\n",
        "    # Score\n",
        "    user_score = 0\n",
        "    comp_score = 0\n",
        "    n = 1\n",
        "\n",
        "    # Play for 5 rounds\n",
        "    for n in range(1,6):\n",
        "        print(f\"\\nRound: {n}\")\n",
        "\n",
        "        # User input\n",
        "        hands = [\"rock\", \"scissors\", \"paper\"]\n",
        "        user_hand = input(\"Choose rock, paper, or scissors: \").lower()\n",
        "        while user_hand not in hands:\n",
        "            user_hand = input(\"Invalid input. Please choose rock, paper, or scissors: \").lower()\n",
        "\n",
        "        # Computer input\n",
        "        comp_hand = random.choice(hands)\n",
        "\n",
        "        # Determine the winner and update scores\n",
        "        result = determine_winner(username, user_hand, comp_hand)\n",
        "        print(f\"{username}: {user_hand} vs. computer: {comp_hand}\")\n",
        "        print(result)\n",
        "\n",
        "        if \"Computer wins!\" in result:\n",
        "            comp_score += 1\n",
        "        elif f\"{username} wins!\" in result:\n",
        "            user_score += 1\n",
        "\n",
        "        # Print current score\n",
        "        print(f\"{username}'s score: {user_score}\")\n",
        "        print(f\"Computer's score: {comp_score}\")\n",
        "\n",
        "    # Summarize the points\n",
        "    if user_score > comp_score:\n",
        "        print(f\"\\nCongrats, {username}, you won!\")\n",
        "    elif user_score < comp_score:\n",
        "        print(f\"\\nTry again next time, {username}. The computer won.\")\n",
        "    else:\n",
        "         print(f\"\\nIt's a tie!\")\n",
        "\n",
        "# Determine the winner of a Rock Paper Scissors game\n",
        "def determine_winner(username, user_hand, comp_hand):\n",
        "    if comp_hand == user_hand:\n",
        "        return \"It's a tie!\"\n",
        "    elif comp_hand == \"rock\" and user_hand == \"paper\":\n",
        "        return (f\"{username} wins!\")\n",
        "    elif comp_hand == \"rock\" and user_hand == \"scissors\":\n",
        "        return \"Computer wins!\"\n",
        "    elif comp_hand == \"paper\" and user_hand == \"rock\":\n",
        "        return \"Computer wins!\"\n",
        "    elif comp_hand == \"paper\" and user_hand == \"scissors\":\n",
        "        return (f\"{username} wins!\")\n",
        "    elif comp_hand == \"scissors\" and user_hand == \"rock\":\n",
        "        return (f\"{username} wins!\")\n",
        "    elif comp_hand == \"scissors\" and user_hand == \"paper\":\n",
        "         return \"Computer wins!\""
      ],
      "metadata": {
        "id": "8z214bssZwYx"
      },
      "execution_count": null,
      "outputs": []
    },
    {
      "cell_type": "code",
      "source": [
        "game()"
      ],
      "metadata": {
        "colab": {
          "base_uri": "https://localhost:8080/"
        },
        "id": "xK-RXOxp2hyZ",
        "outputId": "9eb3e7c2-224e-4b0a-8ef1-5d5f1507c641"
      },
      "execution_count": null,
      "outputs": [
        {
          "output_type": "stream",
          "name": "stdout",
          "text": [
            "Hello! Welcome to Rock Paper Scissors!!\n",
            "What's your name?Sun\n",
            "Hi, Sun. Let's start!\n",
            "\n",
            "Round: 1\n",
            "Choose rock, paper, or scissors: rock\n",
            "Sun: rock vs. computer: scissors\n",
            "Sun wins!\n",
            "Sun's score: 1\n",
            "Computer's score: 0\n",
            "\n",
            "Round: 2\n",
            "Choose rock, paper, or scissors: paper plane\n",
            "Invalid input. Please choose rock, paper, or scissors: paper\n",
            "Sun: paper vs. computer: paper\n",
            "It's a tie!\n",
            "Sun's score: 1\n",
            "Computer's score: 0\n",
            "\n",
            "Round: 3\n",
            "Choose rock, paper, or scissors: rock\n",
            "Sun: rock vs. computer: paper\n",
            "Computer wins!\n",
            "Sun's score: 1\n",
            "Computer's score: 1\n",
            "\n",
            "Round: 4\n",
            "Choose rock, paper, or scissors: rocky\n",
            "Invalid input. Please choose rock, paper, or scissors: rock\n",
            "Sun: rock vs. computer: scissors\n",
            "Sun wins!\n",
            "Sun's score: 2\n",
            "Computer's score: 1\n",
            "\n",
            "Round: 5\n",
            "Choose rock, paper, or scissors: paper\n",
            "Sun: paper vs. computer: rock\n",
            "Sun wins!\n",
            "Sun's score: 3\n",
            "Computer's score: 1\n",
            "\n",
            "Congrats, Sun, you won!\n"
          ]
        }
      ]
    },
    {
      "cell_type": "markdown",
      "source": [
        "\n",
        "# **HOMEWORK02 - OOP**"
      ],
      "metadata": {
        "id": "Bed86JQWJmll"
      }
    },
    {
      "cell_type": "code",
      "source": [
        "from datetime import date"
      ],
      "metadata": {
        "id": "hhowVs7hON_d"
      },
      "execution_count": null,
      "outputs": []
    },
    {
      "cell_type": "code",
      "execution_count": null,
      "metadata": {
        "colab": {
          "base_uri": "https://localhost:8080/"
        },
        "id": "96hGNNdHHP3x",
        "outputId": "6302b8b5-faa8-498e-e6d0-1cc94e33f61f"
      },
      "outputs": [
        {
          "output_type": "stream",
          "name": "stdout",
          "text": [
            "tim 1990 57000 booking.com\n"
          ]
        }
      ],
      "source": [
        "class DataAnalyst():\n",
        "    def __init__(self, name, birth_year, salary, company):\n",
        "        self.name = name\n",
        "        self.birth_year = birth_year\n",
        "        self.salary = salary\n",
        "        self.company = company\n",
        "\n",
        "    def greeting(self):\n",
        "        self.name = self.name.upper()\n",
        "        print(f\"Hello, {self.name}\")\n",
        "\n",
        "    def calculate_age(self):\n",
        "        today_year = date.today().year\n",
        "        age = today_year - self.birth_year\n",
        "        print(f\"You're {age} years old.\")\n",
        "\n",
        "    def new_salary(self, percentage):\n",
        "        raise_amount = self.salary * percentage / 100\n",
        "        self.salary += raise_amount\n",
        "        print(f\"Your salary after raise is ฿{self.salary: .2f}\")\n",
        "\n",
        "analyst1 = DataAnalyst(\"tim\", 1990, 57000, \"booking.com\")\n",
        "print(analyst1.name, analyst1.birth_year, analyst1.salary, analyst1.company)\n",
        "\n",
        "\n"
      ]
    },
    {
      "cell_type": "code",
      "source": [
        "analyst1.greeting()"
      ],
      "metadata": {
        "colab": {
          "base_uri": "https://localhost:8080/"
        },
        "id": "5e5HiK54TNbM",
        "outputId": "0295fa14-0c1d-4e7d-e04a-173898b321d1"
      },
      "execution_count": null,
      "outputs": [
        {
          "output_type": "stream",
          "name": "stdout",
          "text": [
            "Hello, TIM\n"
          ]
        }
      ]
    },
    {
      "cell_type": "code",
      "source": [
        "analyst1.calculate_age()"
      ],
      "metadata": {
        "id": "won5m2KoTpza",
        "colab": {
          "base_uri": "https://localhost:8080/"
        },
        "outputId": "7dbf2f88-9e7e-4845-ca9b-740e236422ab"
      },
      "execution_count": null,
      "outputs": [
        {
          "output_type": "stream",
          "name": "stdout",
          "text": [
            "You're 34 years old.\n"
          ]
        }
      ]
    },
    {
      "cell_type": "code",
      "source": [
        "analyst1.new_salary(10)"
      ],
      "metadata": {
        "colab": {
          "base_uri": "https://localhost:8080/"
        },
        "id": "xHrt5btDVPJg",
        "outputId": "193df357-d446-40f2-8224-65f4235ccb1b"
      },
      "execution_count": null,
      "outputs": [
        {
          "output_type": "stream",
          "name": "stdout",
          "text": [
            "Your salary after raise is ฿ 62700.00\n"
          ]
        }
      ]
    }
  ]
}